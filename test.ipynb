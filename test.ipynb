{
 "cells": [
  {
   "cell_type": "code",
   "execution_count": 1,
   "id": "a2a0564d",
   "metadata": {},
   "outputs": [],
   "source": [
    "from app.services import pdf_parse_service"
   ]
  },
  {
   "cell_type": "code",
   "execution_count": 2,
   "id": "e98b1f5e",
   "metadata": {},
   "outputs": [],
   "source": [
    "with open(\"sample CVs/CV_NguyenPhan[10146].pdf\", 'rb') as file:\n",
    "    file_data = file.read()"
   ]
  },
  {
   "cell_type": "code",
   "execution_count": 4,
   "id": "0f03491b",
   "metadata": {},
   "outputs": [
    {
     "name": "stdout",
     "output_type": "stream",
     "text": [
      "**Page number 1**\n",
      "Phan Khôi Nguyên\n",
      "khoinguyen1312@gmail.com- (+84) 936 746 651\n",
      "Skype - live:khoinguyen1312  -linkedin.com/in/khoinguyen1312|\n",
      "District 7, Ho Chi Minh city - Vietnam\n",
      "Current Position\n",
      "So\u0000ware Engineer for AI & Big Data Team\n",
      "Mar. / 2019 – now\n",
      "MService - Momo |momo.vn\n",
      "| Ho Chi Minh city, Vietnam\n",
      "●Worked on both software and data engineering problems.\n",
      "●Buildandkeepdatapipelinesontrack,stable,onSLA,usingpython,Docker,Airflow,BigQuery,GCP’sVM,Dataproc.\n",
      "●BuiltCI/CDsolutionfordeployingdatapipeline,usingAirflow,Docker,gluingwithJenkins,pythonscripts,PubSub.\n",
      "○Auto unit test generating, removes testing and deploying workload, increases 30% code commit ratio.\n",
      "○Auto daily deploying, increases system reliability. Reduce to 0% system coding error.\n",
      "●Built CDC solution from Oracle to BigQuery, using Oracle Golden Gate, BigQuery Streaming Insert. \n",
      "○Reduced data freshness SLA from 3 hour to 15 minutes. Cut $3000 monthly cost.\n",
      "●Built Data Migration project, using python, ORC format, GCS’s file and BigQuery life cycle. \n",
      "○Optimize data migration and storage cost. Cut $4000 monthly cost.\n",
      "●Writing, optimizing SQL and creating report dashboard using BigQuery, Data Studio and Grafana: \n",
      "○Increase performance in Fraud Detection BigQuery SQL / Datastudio dashboard in Risk Department.\n",
      "○Create / optimize Team’s Cloud Cost Monitoring Dashboard.\n",
      "●JointMarketingPlatformteamsinceQ4/2020.BuiltUserJourneysolution,allowcreatingretargetingadscampaign, using Lambda Architect, Kubernetes, Kotlin, PubSub, Firebase, BigQuery, BigTable, Redis.\n",
      "○Delivery millions of ads to users everyday, commonly hit 20% CR.\n",
      "○Hadover700RPS,hostedeachcampaign’ssegmentsizeupto2millionsusers,operatedover50campaigns parallel. Serve a team of 3 in Operation, support up to 3 BU departments.\n",
      "●BuiltProductRetargetingsolution,allowretargetproductimmediatelyafteruser’sinteraction,usingEventDriven Architect,  Kubernetes, Kotlin, PubSub, BigTable, Redis.\n",
      "○60 RPS, dynamic product importation, handling hundreds of products from different departments.\n",
      "●Joint ML team since Q4 / 2021. Work on real-time Fraud Detection systems.\n",
      "○Optimized system performance, reduce prediction latency from 10s to under 1s.\n",
      "○Analyze user usage scenarios, support implementation decisions.\n",
      "●Lead & Mentor 5 mentee over short projects:\n",
      "○Storage cost optimization project (1 month)\n",
      "○Increase Data Quality Project (1 month) using Java, deploy to K8s and BigQuery for storing metrics.\n",
      "○Upgrade and optimize Data Platform Infrastructure (3 months) using Airflow, StatsD and Grafana.\n",
      "○Auto Healing Service (1 month): using REST Api, PubSub, Kotlin service on K8s\n",
      "○Data Migration Management project (4 months) using Firestore, Kotlin, K8s, VueJS as Frontend.\n",
      "●Build multiple solutions for GCloud’s cost cutting and monitoring.\n",
      "●BuiltmicroservicesusingKotlin,Kubernetes,PubSub,REST,Firebase,Quartzformonitoringadscampaigns,\n",
      "alert Google Chat group, pushing APN notifications, scheduling jobs, indexing streaming data, \n",
      "…\n",
      "●Optimizescalablefactorindozensofservicesusingscalablearchitecture,distributeddatabase,messagequeueand idempotency.\n",
      "\n",
      "\n",
      "------page separator------\n",
      "\n",
      "**Page number 2**\n",
      "Experiences\n",
      "Technical Experience\n",
      "Technologies\n",
      "●GCP (BigQuery, BigTable, Firebase, Data Studio, GCS, Dataproc, PubSub, VM)\n",
      "●Redis, Airflow, Quartz, Bazel, Dagger 2, VertX, proto, Test Container\n",
      "●Grafana, Docker, Jenkins, Kubernetes, Helm, Skaffold, Linux, bash script\n",
      "●Java, Kotlin, python, SQL\n",
      "Personal projects\n",
      "●GraduationThesis-AutosolvingEnglishmultiplechoicequestions:Usingn-grammodel,TF-IDFformula,WMTcorpusandAzure’scloudplatform.Extractedn-grammodelfromWMTcorpuswithsizeof4.1GB;developedabackendsystemusingTF-IDFformulawithextractedn-gramsforautosolvingEnglishmultiplechoicequestions and developed Facebook’s chat bot as UI. Achieved 49.5% accuracy, performance at 30 RPS.\n",
      "●Github:https://github.com/khoinguyen1312| Website:https://www.khoinguyen1312.com\n",
      "Relevant skills\n",
      "●Training,Mentoring,Teamwork,Communicationskill(trainover20peopleintoprogramming,mentorover5mentees)\n",
      "●InterviewSkill(conductedover80interviewsatjunior-middle-seniorlevelwhileworkinginMomo-M_Service)\n",
      "Professional Experience\n",
      "Full Stack Developer\n",
      "Sep. / 2017 –Mar. / 2019\n",
      "Axon Active Vietnam |axonactive.com-developer.axonivy.com\n",
      "| Ho Chi Minh city, Vietnam\n",
      "●Joined Axon Fintech group as Full Stack Developer, develop Fintech applications using Axon Ivy Framework: \n",
      "○Libertybank:developcustomerself-onboardingprocess,gatheringuser’sinputsandgeneratingdocuments for signing at the end.\n",
      "○CreditHighway:genericplatformformortgagebanking,helpsbankersgathercustomer’sinformationbased on banking business.\n",
      "○Coreframeworkteam:developGUI-framework,arulebasedbackendinputvalidationengine,allowbuildUI using rules.\n",
      "●Developanddesignfeaturesonbankingbusinessdemand,usingJava,JSF,Primefaces,AxonIvy:solvency\n",
      "check, calculate credit score, personal information gathering, \n",
      "…\n",
      "●Resolvea2yearstechnicaldebtwithin3month,named`619-DynamicRuleTree`byre-writingalgorithms,refactoring and restructuring, which help blocked features to be developed.\n",
      "Teaching Assistant\n",
      "Jul. / 2015 - Oct. / 2015\n",
      "STDIO Ltd\n",
      "●Teach programming by solving programming problems with C/C++ programming language.\n",
      "●Responsible for course design, exercise/problem design and writing programming articles.\n",
      "●Help about 20 people learn how to program from basic to advanced..\n",
      "\n",
      "------page separator------\n",
      "\n",
      "**Page number 3**\n",
      "Education\n",
      "Bachelor of Computer Science\n",
      "Aug. / 2013 - Dec. / 2017\n",
      "University of Information Technology VNU-HCM - Vietnam\n",
      "GPA: 7/10.\n",
      "Additional Courses\n",
      "BigO Coding - Blue Courseand\n",
      "Orange Course / BigO\n",
      "Coding\n",
      "Jun. / 2019 and Jun. / 2020\n",
      "A course focuses on simple algorithms and their usage for common programming problems.\n",
      "Interests\n",
      "●Longjourneytraveling:motorcyclingacrossCambodia(1week-1000km),Vietnam(2weeks-1700km)andLaos (2 weeks - 2100 km)\n",
      "●Volunteersocialactivities:wasamemberofClass'sStudent'sAssociationandYouthUnion,tookpartinExamSeasonSupportCampaign,SpringVolunteerCampaign,GreenSummerCampaign,supporteratACMcompetition,TechnicalChairmanatUniversity'sMusicClub.WasmainlyresponsibleforEffectiveLearningClass, which worked as Teaching Assistant, helping freshmen of faculty.\n",
      "●Vietnamese Traditional Martial Art (practice over 5 year and being teaching assistant in 3 years)\n"
     ]
    }
   ],
   "source": [
    "print(pdf_parse_service.extract_text_from_pdf(file_data))"
   ]
  },
  {
   "cell_type": "code",
   "execution_count": 1,
   "id": "84a1750f",
   "metadata": {},
   "outputs": [],
   "source": [
    "from app.services import llm_service"
   ]
  },
  {
   "cell_type": "code",
   "execution_count": 1,
   "id": "5c9a8860",
   "metadata": {},
   "outputs": [
    {
     "ename": "NameError",
     "evalue": "name 'llm_service' is not defined",
     "output_type": "error",
     "traceback": [
      "\u001b[0;31m---------------------------------------------------------------------------\u001b[0m",
      "\u001b[0;31mNameError\u001b[0m                                 Traceback (most recent call last)",
      "Cell \u001b[0;32mIn[1], line 8\u001b[0m\n\u001b[1;32m      5\u001b[0m     age: \u001b[38;5;28mint\u001b[39m\n\u001b[1;32m      6\u001b[0m     email: \u001b[38;5;28mstr\u001b[39m\n\u001b[0;32m----> 8\u001b[0m \u001b[43mllm_service\u001b[49m\u001b[38;5;241m.\u001b[39mget_parsed_response(\n\u001b[1;32m      9\u001b[0m     \u001b[38;5;124m\"\u001b[39m\u001b[38;5;124mWhat is the age of the user?\u001b[39m\u001b[38;5;124m\"\u001b[39m,\n\u001b[1;32m     10\u001b[0m     \u001b[38;5;124m\"\u001b[39m\u001b[38;5;124mSang, 24yo, sang@â.cam\u001b[39m\u001b[38;5;124m\"\u001b[39m,\n\u001b[1;32m     11\u001b[0m     User,\n\u001b[1;32m     12\u001b[0m )\n",
      "\u001b[0;31mNameError\u001b[0m: name 'llm_service' is not defined"
     ]
    }
   ],
   "source": [
    "from pydantic import BaseModel\n",
    "\n",
    "class User(BaseModel):\n",
    "    name: str\n",
    "    age: int\n",
    "    email: str\n",
    "\n",
    "llm_service.get_parsed_response(\n",
    "    \"What is the age of the user?\",\n",
    "    \"Sang, 24yo, sang@â.cam\",\n",
    "    User,\n",
    ")"
   ]
  },
  {
   "cell_type": "code",
   "execution_count": 2,
   "id": "1132626c",
   "metadata": {},
   "outputs": [
    {
     "data": {
      "text/plain": [
       "[{'_id': ObjectId('680b138bc7e2f69b2008f8ef'),\n",
       "  'name': 'Phan Khôi Nguyên',\n",
       "  'email': 'khoinguyen1312@gmail.com',\n",
       "  'phone': '(+84) 936 746 651',\n",
       "  'year_of_birth': 1994,\n",
       "  'year_of_experience': 6,\n",
       "  'roles': ['Software Engineer',\n",
       "   'Full Stack Developer',\n",
       "   'Data Engineer',\n",
       "   'Data Analyst'],\n",
       "  'english_level': 'Advanced',\n",
       "  'skills': ['Python',\n",
       "   'Java',\n",
       "   'Kotlin',\n",
       "   'SQL',\n",
       "   'Go',\n",
       "   'NoSQL',\n",
       "   'HTML',\n",
       "   'CSS',\n",
       "   'React',\n",
       "   'Angular',\n",
       "   'Flask',\n",
       "   'Spring Boot',\n",
       "   'Node.js',\n",
       "   'Express.js',\n",
       "   'TensorFlow',\n",
       "   'PyTorch',\n",
       "   'Keras'],\n",
       "  'companies': ['MService - Momo', 'Axon Active Vietnam', 'STDIO Ltd'],\n",
       "  'cv_raw_content': \"**Page number 1**\\nPhan Khôi Nguyên\\nkhoinguyen1312@gmail.com- (+84) 936 746 651\\nSkype - live:khoinguyen1312  -linkedin.com/in/khoinguyen1312|\\nDistrict 7, Ho Chi Minh city - Vietnam\\nCurrent Position\\nSo\\x00ware Engineer for AI & Big Data Team\\nMar. / 2019 – now\\nMService - Momo |momo.vn\\n| Ho Chi Minh city, Vietnam\\n●Worked on both software and data engineering problems.\\n●Buildandkeepdatapipelinesontrack,stable,onSLA,usingpython,Docker,Airflow,BigQuery,GCP’sVM,Dataproc.\\n●BuiltCI/CDsolutionfordeployingdatapipeline,usingAirflow,Docker,gluingwithJenkins,pythonscripts,PubSub.\\n○Auto unit test generating, removes testing and deploying workload, increases 30% code commit ratio.\\n○Auto daily deploying, increases system reliability. Reduce to 0% system coding error.\\n●Built CDC solution from Oracle to BigQuery, using Oracle Golden Gate, BigQuery Streaming Insert. \\n○Reduced data freshness SLA from 3 hour to 15 minutes. Cut $3000 monthly cost.\\n●Built Data Migration project, using python, ORC format, GCS’s file and BigQuery life cycle. \\n○Optimize data migration and storage cost. Cut $4000 monthly cost.\\n●Writing, optimizing SQL and creating report dashboard using BigQuery, Data Studio and Grafana: \\n○Increase performance in Fraud Detection BigQuery SQL / Datastudio dashboard in Risk Department.\\n○Create / optimize Team’s Cloud Cost Monitoring Dashboard.\\n●JointMarketingPlatformteamsinceQ4/2020.BuiltUserJourneysolution,allowcreatingretargetingadscampaign, using Lambda Architect, Kubernetes, Kotlin, PubSub, Firebase, BigQuery, BigTable, Redis.\\n○Delivery millions of ads to users everyday, commonly hit 20% CR.\\n○Hadover700RPS,hostedeachcampaign’ssegmentsizeupto2millionsusers,operatedover50campaigns parallel. Serve a team of 3 in Operation, support up to 3 BU departments.\\n●BuiltProductRetargetingsolution,allowretargetproductimmediatelyafteruser’sinteraction,usingEventDriven Architect,  Kubernetes, Kotlin, PubSub, BigTable, Redis.\\n○60 RPS, dynamic product importation, handling hundreds of products from different departments.\\n●Joint ML team since Q4 / 2021. Work on real-time Fraud Detection systems.\\n○Optimized system performance, reduce prediction latency from 10s to under 1s.\\n○Analyze user usage scenarios, support implementation decisions.\\n●Lead & Mentor 5 mentee over short projects:\\n○Storage cost optimization project (1 month)\\n○Increase Data Quality Project (1 month) using Java, deploy to K8s and BigQuery for storing metrics.\\n○Upgrade and optimize Data Platform Infrastructure (3 months) using Airflow, StatsD and Grafana.\\n○Auto Healing Service (1 month): using REST Api, PubSub, Kotlin service on K8s\\n○Data Migration Management project (4 months) using Firestore, Kotlin, K8s, VueJS as Frontend.\\n●Build multiple solutions for GCloud’s cost cutting and monitoring.\\n●BuiltmicroservicesusingKotlin,Kubernetes,PubSub,REST,Firebase,Quartzformonitoringadscampaigns,\\nalert Google Chat group, pushing APN notifications, scheduling jobs, indexing streaming data, \\n…\\n●Optimizescalablefactorindozensofservicesusingscalablearchitecture,distributeddatabase,messagequeueand idempotency.\\n\\n\\n------page separator------\\n\\n**Page number 2**\\nExperiences\\nTechnical Experience\\nTechnologies\\n●GCP (BigQuery, BigTable, Firebase, Data Studio, GCS, Dataproc, PubSub, VM)\\n●Redis, Airflow, Quartz, Bazel, Dagger 2, VertX, proto, Test Container\\n●Grafana, Docker, Jenkins, Kubernetes, Helm, Skaffold, Linux, bash script\\n●Java, Kotlin, python, SQL\\nPersonal projects\\n●GraduationThesis-AutosolvingEnglishmultiplechoicequestions:Usingn-grammodel,TF-IDFformula,WMTcorpusandAzure’scloudplatform.Extractedn-grammodelfromWMTcorpuswithsizeof4.1GB;developedabackendsystemusingTF-IDFformulawithextractedn-gramsforautosolvingEnglishmultiplechoicequestions and developed Facebook’s chat bot as UI. Achieved 49.5% accuracy, performance at 30 RPS.\\n●Github:https://github.com/khoinguyen1312| Website:https://www.khoinguyen1312.com\\nRelevant skills\\n●Training,Mentoring,Teamwork,Communicationskill(trainover20peopleintoprogramming,mentorover5mentees)\\n●InterviewSkill(conductedover80interviewsatjunior-middle-seniorlevelwhileworkinginMomo-M_Service)\\nProfessional Experience\\nFull Stack Developer\\nSep. / 2017 –Mar. / 2019\\nAxon Active Vietnam |axonactive.com-developer.axonivy.com\\n| Ho Chi Minh city, Vietnam\\n●Joined Axon Fintech group as Full Stack Developer, develop Fintech applications using Axon Ivy Framework: \\n○Libertybank:developcustomerself-onboardingprocess,gatheringuser’sinputsandgeneratingdocuments for signing at the end.\\n○CreditHighway:genericplatformformortgagebanking,helpsbankersgathercustomer’sinformationbased on banking business.\\n○Coreframeworkteam:developGUI-framework,arulebasedbackendinputvalidationengine,allowbuildUI using rules.\\n●Developanddesignfeaturesonbankingbusinessdemand,usingJava,JSF,Primefaces,AxonIvy:solvency\\ncheck, calculate credit score, personal information gathering, \\n…\\n●Resolvea2yearstechnicaldebtwithin3month,named`619-DynamicRuleTree`byre-writingalgorithms,refactoring and restructuring, which help blocked features to be developed.\\nTeaching Assistant\\nJul. / 2015 - Oct. / 2015\\nSTDIO Ltd\\n●Teach programming by solving programming problems with C/C++ programming language.\\n●Responsible for course design, exercise/problem design and writing programming articles.\\n●Help about 20 people learn how to program from basic to advanced..\\n\\n------page separator------\\n\\n**Page number 3**\\nEducation\\nBachelor of Computer Science\\nAug. / 2013 - Dec. / 2017\\nUniversity of Information Technology VNU-HCM - Vietnam\\nGPA: 7/10.\\nAdditional Courses\\nBigO Coding - Blue Courseand\\nOrange Course / BigO\\nCoding\\nJun. / 2019 and Jun. / 2020\\nA course focuses on simple algorithms and their usage for common programming problems.\\nInterests\\n●Longjourneytraveling:motorcyclingacrossCambodia(1week-1000km),Vietnam(2weeks-1700km)andLaos (2 weeks - 2100 km)\\n●Volunteersocialactivities:wasamemberofClass'sStudent'sAssociationandYouthUnion,tookpartinExamSeasonSupportCampaign,SpringVolunteerCampaign,GreenSummerCampaign,supporteratACMcompetition,TechnicalChairmanatUniversity'sMusicClub.WasmainlyresponsibleforEffectiveLearningClass, which worked as Teaching Assistant, helping freshmen of faculty.\\n●Vietnamese Traditional Martial Art (practice over 5 year and being teaching assistant in 3 years)\"}]"
      ]
     },
     "execution_count": 2,
     "metadata": {},
     "output_type": "execute_result"
    }
   ],
   "source": [
    "from app.services import cv_service\n",
    "\n",
    "cv_service.get_cv_by_user_input(\n",
    "    \"Find me an Data Engineer with at least 5 year of ex\"\n",
    ")"
   ]
  }
 ],
 "metadata": {
  "kernelspec": {
   "display_name": ".venv",
   "language": "python",
   "name": "python3"
  },
  "language_info": {
   "codemirror_mode": {
    "name": "ipython",
    "version": 3
   },
   "file_extension": ".py",
   "mimetype": "text/x-python",
   "name": "python",
   "nbconvert_exporter": "python",
   "pygments_lexer": "ipython3",
   "version": "3.10.16"
  }
 },
 "nbformat": 4,
 "nbformat_minor": 5
}
